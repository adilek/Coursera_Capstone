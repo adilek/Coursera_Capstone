{
 "cells": [
  {
   "cell_type": "markdown",
   "metadata": {},
   "source": [
    "# Capstone Project"
   ]
  },
  {
   "cell_type": "markdown",
   "metadata": {},
   "source": [
    "## Introduction\n",
    "\n",
    "This project aims to find potentially useful regions for Coffee Shops in Baku city.\n",
    "\n",
    "Traditionally Azerbaijan people mostly drink tea instead of coffee. So there were many tea houses called \"chaykhana\" where people went to drink tea and play board games (especially Dominos, Backgammon). In recent years people are looking for quiet places to study, talk or have some similar activities. The atmosphere of tea houses is not suitable for this purpose. In this case, the coffee shop concept would be ideal. Recently opened coffee shops are good examples to prove the feasibility of the idea.\n",
    "\n",
    "In this project, I will conduct research using data science techniques and find optimal places for opening a coffee shop would be interesting to stakeholders.\n",
    "\n",
    "**Note:** I used some methods from https://cocl.us/coursera_capstone_notebook and https://www.linkedin.com/pulse/housing-sales-prices-venues-data-analysis-ofistanbul-sercan-y%C4%B1ld%C4%B1z/."
   ]
  },
  {
   "cell_type": "markdown",
   "metadata": {},
   "source": []
  },
  {
   "cell_type": "markdown",
   "metadata": {},
   "source": [
    "## Data\n",
    "\n",
    "Usually, people in Baku meet in \"city centre\" which is considered around \"Sahil\" subway station. Hence, we will choose that point as a city center. The main reason I guess is ease of accessibility and presence of many ways to get in there using public transport. Due to that other regions like \"Elmlar Akademiyasi\" station, \"28 May\" station, \"Khatai\" station are also good candidates. The existing coffee shops in these neighbourhoods doing good. The distance from \"Sahil\" to those places are not more than 3km. Thus, I will choose 4km radius to search for a good location.\n",
    "\n",
    "I will use Geocoding API from Google Cloud (paid) and Foursquare API for getting information about points of interests. \n",
    "\n",
    "To summarize:\n",
    "* The center point will be coordinates of \"Sahil\" subway station\n",
    "* The radius for discovery will be 4 kilometers\n",
    "* Geocoding API from Google Cloud will be used for converting addrese\n"
   ]
  },
  {
   "cell_type": "code",
   "execution_count": null,
   "metadata": {},
   "outputs": [],
   "source": []
  }
 ],
 "metadata": {
  "kernelspec": {
   "display_name": "Python 3",
   "language": "python",
   "name": "python3"
  },
  "language_info": {
   "codemirror_mode": {
    "name": "ipython",
    "version": 3
   },
   "file_extension": ".py",
   "mimetype": "text/x-python",
   "name": "python",
   "nbconvert_exporter": "python",
   "pygments_lexer": "ipython3",
   "version": "3.6.8"
  }
 },
 "nbformat": 4,
 "nbformat_minor": 2
}
